{
 "cells": [
  {
   "cell_type": "code",
   "execution_count": 23,
   "metadata": {
    "id": "DpqPnep7Cru4"
   },
   "outputs": [],
   "source": [
    "# Import necessary libraries\n",
    "import matplotlib.pyplot as plt\n",
    "from scipy.stats import norm\n",
    "from random import sample\n",
    "import tensorflow as tf\n",
    "tf.random.set_seed(42)\n",
    "import pandas as pd\n",
    "import numpy as np\n",
    "%matplotlib inline\n",
    "dtype = 'float32'\n"
   ]
  },
  {
   "cell_type": "markdown",
   "metadata": {
    "id": "KFolfu9RBhWF"
   },
   "source": [
    "## Data load and plot"
   ]
  },
  {
   "cell_type": "code",
   "execution_count": 24,
   "metadata": {
    "colab": {
     "base_uri": "https://localhost:8080/",
     "height": 204
    },
    "id": "5zLUOuDrBhWF",
    "outputId": "7def2dd8-9d00-467b-fc93-28f7dd975d14"
   },
   "outputs": [
    {
     "data": {
      "text/html": [
       "<div>\n",
       "<style scoped>\n",
       "    .dataframe tbody tr th:only-of-type {\n",
       "        vertical-align: middle;\n",
       "    }\n",
       "\n",
       "    .dataframe tbody tr th {\n",
       "        vertical-align: top;\n",
       "    }\n",
       "\n",
       "    .dataframe thead th {\n",
       "        text-align: right;\n",
       "    }\n",
       "</style>\n",
       "<table border=\"1\" class=\"dataframe\">\n",
       "  <thead>\n",
       "    <tr style=\"text-align: right;\">\n",
       "      <th></th>\n",
       "      <th>x</th>\n",
       "      <th>y</th>\n",
       "    </tr>\n",
       "  </thead>\n",
       "  <tbody>\n",
       "    <tr>\n",
       "      <th>0</th>\n",
       "      <td>-5.00000</td>\n",
       "      <td>0.006693</td>\n",
       "    </tr>\n",
       "    <tr>\n",
       "      <th>1</th>\n",
       "      <td>-4.98999</td>\n",
       "      <td>0.006760</td>\n",
       "    </tr>\n",
       "    <tr>\n",
       "      <th>2</th>\n",
       "      <td>-4.97998</td>\n",
       "      <td>0.006827</td>\n",
       "    </tr>\n",
       "    <tr>\n",
       "      <th>3</th>\n",
       "      <td>-4.96997</td>\n",
       "      <td>0.006895</td>\n",
       "    </tr>\n",
       "    <tr>\n",
       "      <th>4</th>\n",
       "      <td>-4.95996</td>\n",
       "      <td>0.006964</td>\n",
       "    </tr>\n",
       "  </tbody>\n",
       "</table>\n",
       "</div>"
      ],
      "text/plain": [
       "         x         y\n",
       "0 -5.00000  0.006693\n",
       "1 -4.98999  0.006760\n",
       "2 -4.97998  0.006827\n",
       "3 -4.96997  0.006895\n",
       "4 -4.95996  0.006964"
      ]
     },
     "execution_count": 24,
     "metadata": {
      "tags": []
     },
     "output_type": "execute_result"
    }
   ],
   "source": [
    "# Read the data file \"backprop.csv\"\n",
    "df = pd.read_csv(\"backprop.csv\")\n",
    "\n",
    "# Take a quick look at the data\n",
    "df.head()"
   ]
  },
  {
   "cell_type": "code",
   "execution_count": null,
   "metadata": {},
   "outputs": [],
   "source": [
    "# Get the predictor and response data\n",
    "X_data = df.iloc[:,0]\n",
    "y_data = df.iloc[:,1]"
   ]
  },
  {
   "cell_type": "code",
   "execution_count": 26,
   "metadata": {
    "colab": {
     "base_uri": "https://localhost:8080/",
     "height": 514
    },
    "id": "cw1-nVPVBhWF",
    "outputId": "bb11989c-21b6-451c-d026-5b7301f1ecc7"
   },
   "outputs": [
    {
     "data": {
      "image/png": "[encoded data removed]",
      "text/plain": [
       "<Figure size 288x432 with 1 Axes>"
      ]
     },
     "metadata": {
      "needs_background": "light",
      "tags": []
     },
     "output_type": "display_data"
    }
   ],
   "source": [
    "# Helper code to visualize the data \n",
    "plt.figure(figsize=(4,6))\n",
    "plt.scatter(X_data, y_data,color='g' ,s = 20, alpha = 0.5, label='sample data')\n",
    "plt.title('Advertising Dataset'); \n",
    "plt.xlabel('TV',fontsize=14); \n",
    "plt.ylabel('Sales',fontsize=14)\n",
    "plt.subplots_adjust(left=0.0, bottom=0.0, right=2.0, top=1.0, wspace=0.2, hspace=0.2)\n",
    "plt.legend()\n",
    "plt.show()"
   ]
  },
  {
   "cell_type": "code",
   "execution_count": 69,
   "metadata": {
    "id": "tnENw9xSf6NC"
   },
   "outputs": [],
   "source": [
    "# Convert the predictor and response variables to tensor data\n",
    "x = tf.convert_to_tensor(X_data)\n",
    "x = tf.reshape(x,(-1,1))\n",
    "y = tf.convert_to_tensor(y_data)\n",
    "y = tf.reshape(y, (-1, 1))\n"
   ]
  },
  {
   "cell_type": "code",
   "execution_count": 178,
   "metadata": {
    "id": "jqsoiCm_BhWH"
   },
   "outputs": [],
   "source": [
    "# Function to define the neural network model\n",
    "# The network has 2 hidden nodes and one output node\n",
    "# The network has a total of 5 parameters - 4 weights and one bias for the output\n",
    "\n",
    "def basic_nn(w0,w1,b1,x=x):\n",
    "    h1 = tf.matmul(x,w0)\n",
    "    a1 = tf.math.sin(h1)\n",
    "    h2 = tf.matmul(a1,w1) + b1\n",
    "    y = tf.math.sin(h2)\n",
    "    return y\n"
   ]
  },
  {
   "cell_type": "code",
   "execution_count": 177,
   "metadata": {
    "id": "fWxkKh6oEMb_"
   },
   "outputs": [],
   "source": [
    "# Define 3 empty lists to store the accepted network parameters\n",
    "\n",
    "# The weights0_list will contain 2 weights that connects the input\n",
    "# to the hidden layer\n",
    "weights0_list = []\n",
    "\n",
    "# The weights1_list will contain 2 weights that connects the hidden\n",
    "# nodes to the output\n",
    "weights1_list = []\n",
    "\n",
    "# The bias_list will hold the bias added to the output of the hidden nodes\n",
    "bias_list = []"
   ]
  },
  {
   "cell_type": "code",
   "execution_count": null,
   "metadata": {
    "colab": {
     "base_uri": "https://localhost:8080/"
    },
    "id": "9hGhqCP-EjsN",
    "outputId": "670ef7ab-22b3-41be-c1c4-3d9080014ffc"
   },
   "outputs": [],
   "source": [
    "# Initialize the input to hidden weights randomly from a normal distribution \n",
    "# with mean=(-0.4,12) and standard deviation=(0.1,0.1)\n",
    "# Reshape the values to shape (1,2)\n",
    "weights0 = tf.reshape(np.random.normal(loc=(-0.4,12),scale=(0.1,0.1), size=(1,2)), shape=(1,2))\n",
    "\n",
    "# Initialize the hidden to output weights randomly from a normal distribution \n",
    "# with mean=(-0.4,12) and standard deviation=(0.1,0.1)\n",
    "# Reshape the values to shape (2,1)\n",
    "weights1 = tf.reshape(np.random.normal(loc=(0.6, 0),scale=(0.1)), shape=(2,1))\n",
    "\n",
    "# Initialize the bias randomly from a normal distribution \n",
    "# with mean=2.5 and standard deviation=0.1\n",
    "bias = np.random.normal(loc=2.5, scale=0.1)\n"
   ]
  },
  {
   "cell_type": "code",
   "execution_count": 181,
   "metadata": {
    "id": "zii_uSPiJGBy"
   },
   "outputs": [],
   "source": [
    "# Function to get the prior given the network parameters\n",
    "def get_prior(weights0,weights1, bias):\n",
    "\n",
    "    # Initialize a numpy array of zeros with shape 2,1\n",
    "    prior_w0 = np.zeros((2,1))\n",
    "    \n",
    "    # Find the probability of the first weight given the normal PDF with mean =-0.4 and std=0.1\n",
    "    # Take the log of this value\n",
    "    prior_w0[0] = np.log(norm.pdf(weights0[0][0],-0.4, 0.1))\n",
    "    \n",
    "    # Find the probability of the second weight given the normal PDF with mean =12 and std=0.1\n",
    "    # Take the log of this value\n",
    "    prior_w0[1] = np.log(norm.pdf(weights0[0][1],12, 0.1))\n",
    "\n",
    "    # Initialize a numpy array of zeros with shape 2,1\n",
    "    prior_w1 = np.zeros((2,1))  \n",
    "    \n",
    "    # Find the probability of the third weight given the normal PDF with mean =0.6 and std=0.1\n",
    "    # Take the log of this value\n",
    "    prior_w1[0] = np.log(norm.pdf(weights1[0],0.6,0.1))\n",
    "    \n",
    "    # Find the probability of the first weight given the normal PDF with mean =0 and std=0.1\n",
    "    # Take the log of this value\n",
    "    prior_w1[1] = np.log(norm.pdf(weights1[1],0,0.1))\n",
    "\n",
    "    # Find the probability of the bias given the normal PDF with mean=2.5 and std=0.1\n",
    "    # Take the log of this value\n",
    "    prior_bias = np.log(norm.pdf(bias,2.5,0.1))\n",
    "    \n",
    "    # Compute the prior as the sum of the previously computed priors\n",
    "    prior = np.sum(prior_w0[0]+prior_w0[1]+prior_w1[0]+prior_w1[1]+prior_bias)\n",
    "  \n",
    "    # Return the prior value\n",
    "    return prior\n",
    "    "
   ]
  },
  {
   "cell_type": "code",
   "execution_count": 182,
   "metadata": {
    "id": "Dy7IFGo-JGHz"
   },
   "outputs": [],
   "source": [
    "# Get the prior of the initial network parameters by calling the get_prior function\n",
    "prior = get_prior(weights0,weights1, bias)\n",
    "\n",
    "# Get the network predictions by calling the basic_nn function\n",
    "ypred = basic_nn(weights0, weights1, bias, x)\n",
    "\n",
    "# Compute the likelihood given the true y and predicted y\n",
    "likelihood = -np.sum(((y-ypred)**2))\n",
    "\n",
    "# Compute the posterior as the sum of the likelihood and prior\n",
    "posterior = likelihood + prior\n",
    "\n",
    "# Save the current posterior value as prev_posterior for comparision later\n",
    "prev_posterior = posterior\n",
    "\n",
    "# Append weights0 to the weights0_list\n",
    "weights0_list.append(weights0)\n",
    "\n",
    "# Append weights1 to the weights1_list\n",
    "weights1_list.append(weights1)\n",
    "\n",
    "# Append bias to the bias_list\n",
    "bias_list.append(bias)\n"
   ]
  },
  {
   "cell_type": "code",
   "execution_count": 183,
   "metadata": {
    "colab": {
     "base_uri": "https://localhost:8080/"
    },
    "id": "bK2aXstxJGK8",
    "outputId": "d4625fe7-b983-48f3-92e1-bf4b4e05e276"
   },
   "outputs": [
    {
     "name": "stdout",
     "output_type": "stream",
     "text": [
      "EPOCH:  0\n",
      "EPOCH:  5000\n",
      "EPOCH:  10000\n",
      "EPOCH:  15000\n",
      "EPOCH:  20000\n",
      "EPOCH:  25000\n",
      "EPOCH:  30000\n",
      "EPOCH:  35000\n",
      "EPOCH:  40000\n",
      "EPOCH:  45000\n"
     ]
    }
   ],
   "source": [
    "# Specify the number of sampling \"epochs\"\n",
    "epochs = 50000\n",
    "\n",
    "# Loop over the range of sampling \"epochs\"\n",
    "for i in range(epochs):\n",
    "    if i%5000==0:\n",
    "        print(\"EPOCH: \",i)\n",
    "\n",
    "    # Get the candidate input to hidden weights randomly from a normal distribution \n",
    "    # with mean as the last element added to weights0_list and standard deviation=(0.1,0.1)\n",
    "    # Reshape the values to shape (1,2)\n",
    "    weights0 = tf.reshape(np.random.normal(loc=weights0_list[-1],scale=(0.1, 0.1)), shape=(1,2))\n",
    "\n",
    "    # Get the candidate hidden to output weights randomly from a normal distribution \n",
    "    # with mean as the last element added to weights1_list and standard deviation=(0.1)\n",
    "    # Reshape the values to shape (2,1)\n",
    "    weights1 = tf.reshape(np.random.normal(loc=weights1_list[-1],scale=(0.1)), shape=(2,1))\n",
    "\n",
    "    # Get the candidate bias randomly from a normal distribution \n",
    "    # with mean as the last element added to bias_list and standard deviation=(0.1)\n",
    "    bias = np.random.normal(loc=bias_list[-1],scale=0.1)\n",
    "\n",
    "    # Get the prior values for the candidate values by calling the get_prior function\n",
    "    prior = get_prior(weights0,weights1, bias)\n",
    "\n",
    "    # Get the network predictions by calling the basic_nn function with the candidate values\n",
    "    ypred = basic_nn(weights0, weights1, bias, x)\n",
    "\n",
    "    # Compute P(data|w) i.e. the log-likelihood given the true y and predicted y\n",
    "    likelihood = -np.sum(((y - ypred)**2))\n",
    "\n",
    "    # To compute the posterior given the likelihood and prior\n",
    "    # The posterior is the sum of the likelihood and prior\n",
    "    posterior = likelihood + prior\n",
    "\n",
    "    # Compute the the exponential of the ratio of the posterior given its previous value\n",
    "    exp_ratio = np.exp(posterior - prev_posterior)\n",
    "\n",
    "    # If the ratio is greater than or equal to 1 then accept the candidate values in this case\n",
    "    if exp_ratio>=1:\n",
    "\n",
    "        # Append the candidate values to the weights and bias list\n",
    "        weights0_list.append(weights0)\n",
    "        weights1_list.append(weights1)\n",
    "        bias_list.append(bias)\n",
    "\n",
    "        # Save the accepted posterior as the previous posterior\n",
    "        prev_posterior = posterior\n",
    "\n",
    "    # If the ratio is less than 1 then get a random value between 0 and 1\n",
    "    else:\n",
    "        coin = np.random.uniform(0, 1)\n",
    "\n",
    "        # Set a threshold value\n",
    "        threshold = 0.98\n",
    "        \n",
    "        # Check if the random value is higher than the threshold\n",
    "        # Append the candidate values to the list and update the previous posterior\n",
    "        if coin > threshold:\n",
    "            weights0_list.append(weights0)\n",
    "            weights1_list.append(weights1)\n",
    "            bias_list.append(bias)\n",
    "            prev_posterior = posterior\n",
    "\n"
   ]
  },
  {
   "cell_type": "code",
   "execution_count": 185,
   "metadata": {
    "id": "d6BynLNT1ZvU"
   },
   "outputs": [],
   "source": [
    "# The number of data points to consider after the beta list has been populated\n",
    "burn_rate = int(len(bias_list)*0.2)"
   ]
  },
  {
   "cell_type": "code",
   "execution_count": null,
   "metadata": {},
   "outputs": [],
   "source": [
    "# Helper code to plot the distribution of network parameter\n",
    "fig, ax = plt.subplots(5,2, figsize=(15,15))\n",
    "col1 = \"#B2D7D0\"\n",
    "col2 = \"#EFAEA4\"\n",
    "fs = 12\n",
    "\n",
    "with plt.xkcd(scale=0.01):\n",
    "  ax[0][0].hist(np.array(weights0_list)[:,0,0], color=col1,linewidth=1.2,edgecolor='black')\n",
    "  ax[0][0].set_xlabel(\"Weight 1\")\n",
    "  ax[0][0].set_ylabel(\"Frequency\")\n",
    "\n",
    "\n",
    "  ax[0][1].plot(np.array(weights0_list)[:,0,0], color=col2)\n",
    "  ax[0][1].set_xlabel(\"Weight 1\")\n",
    "  ax[0][1].set_title(\"CHAIN\", fontsize=14)\n",
    "\n",
    "  ax[1][0].hist(np.array(weights0_list)[:,0,1], color=col1,linewidth=1.2,edgecolor='black')\n",
    "  ax[1][0].set_xlabel(\"Weight 2\")\n",
    "  ax[1][0].set_ylabel(\"Frequency\")\n",
    "\n",
    "  ax[1][1].plot(np.array(weights0_list)[:,0,1], color=col2)\n",
    "  ax[1][1].set_xlabel(\"Weight 2\")\n",
    "\n",
    "\n",
    "  ax[2][0].hist(np.array(weights1_list)[:,0,0], color=col1,linewidth=1.2,edgecolor='black')\n",
    "  ax[2][0].set_xlabel(\"Weight 3\")\n",
    "  ax[2][0].set_ylabel(\"Frequency\")\n",
    "\n",
    "  ax[2][1].plot(np.array(weights1_list)[:,0,0], color=col2)\n",
    "  ax[2][1].set_xlabel(\"Weight 3\")\n",
    "\n",
    "\n",
    "  ax[3][0].hist(np.array(weights1_list)[:,1,0], color=col1,linewidth=1.2,edgecolor='black')\n",
    "  ax[3][0].set_xlabel(\"Weight 4\")\n",
    "  ax[3][0].set_ylabel(\"Frequency\")\n",
    "\n",
    "  ax[3][1].plot(np.array(weights1_list)[:,1,0], color=col2)\n",
    "  ax[3][1].set_xlabel(\"Weight 4\")\n",
    "\n",
    "  ax[4][0].hist(np.array(bias_list), color=col1,linewidth=1.2,edgecolor='black')\n",
    "  ax[4][0].set_xlabel(\"Bias\")\n",
    "  ax[4][0].set_ylabel(\"Frequency\")\n",
    "\n",
    "  ax[4][1].plot(np.array(bias_list), color=col2)\n",
    "  ax[4][1].set_xlabel(\"Bias\")\n",
    "\n",
    "\n",
    "plt.tight_layout();"
   ]
  },
  {
   "cell_type": "code",
   "execution_count": null,
   "metadata": {
    "id": "xpGFzDXOhSdc"
   },
   "outputs": [],
   "source": [
    "# Helper code to visualize the prediction by taking the mean of the network parameters\n",
    "wl = np.array(weights0_list[burn_rate:])\n",
    "wl2 = np.array(weights1_list[burn_rate:])\n",
    "bi = np.array(bias_list[burn_rate:])\n",
    "\n",
    "# Take the mean of the model parameters\n",
    "w0 = np.mean(wl[:,0,:], axis=0).reshape(1,2)\n",
    "w1 = np.mean(wl2[:,:,0], axis=0)\n",
    "w1 = tf.reshape(tf.cast(w1, dtype='float32'), shape=(2,1))\n",
    "b1 = np.mean(bi)\n",
    "\n",
    "# Get the network prediction\n",
    "h1 = tf.matmul(tf.cast(x, dtype='float32'), w0)\n",
    "a1 = tf.math.sin(h1)\n",
    "h2 = tf.matmul(a1,w1) + b1\n",
    "y_pred = tf.math.sin(h2)\n",
    "\n",
    "# Plot the true data and model prediction\n",
    "plt.plot(X_data, y_data, 'b+', label=\"True Data\")\n",
    "plt.plot(X_data, y_pred, 'ro', label = \"Prediction\")\n",
    "plt.legend()"
   ]
  }
 ],
 "metadata": {
  "colab": {
   "collapsed_sections": [],
   "name": "bnn_mcmc.ipynb",
   "provenance": []
  },
  "kernelspec": {
   "display_name": "Python 3",
   "language": "python",
   "name": "python3"
  },
  "language_info": {
   "codemirror_mode": {
    "name": "ipython",
    "version": 3
   },
   "file_extension": ".py",
   "mimetype": "text/x-python",
   "name": "python",
   "nbconvert_exporter": "python",
   "pygments_lexer": "ipython3",
   "version": "3.9.0"
  }
 },
 "nbformat": 4,
 "nbformat_minor": 1
}
